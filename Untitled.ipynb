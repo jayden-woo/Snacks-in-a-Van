{
 "cells": [
  {
   "cell_type": "code",
   "execution_count": 115,
   "metadata": {},
   "outputs": [],
   "source": [
    "import sys\n",
    "import requests\n",
    "import pandas as pd\n",
    "import numpy as np\n",
    "from random import randint\n",
    "import random\n",
    "import json\n",
    "txtlink = 'https://raw.githubusercontent.com/smashew/NameDatabases/master/NamesDatabases/first%20names/all.txt'\n",
    "url = 'http://127.0.0.1:8080/vendor/'\n",
    "text = pd.read_csv(txtlink, header = None, delimiter = \"\\n\")\n",
    "x = str(sys.argv[0])\n"
   ]
  },
  {
   "cell_type": "code",
   "execution_count": null,
   "metadata": {},
   "outputs": [],
   "source": []
  },
  {
   "cell_type": "code",
   "execution_count": 114,
   "metadata": {},
   "outputs": [
    {
     "name": "stdout",
     "output_type": "stream",
     "text": [
      "200 OK\n"
     ]
    }
   ],
   "source": [
    "def giveData(text):\n",
    "    js = {\n",
    "        'name': text[randint(0, len(text)-1)][0],\n",
    "        'latitude': random.uniform(-90,90),\n",
    "        'longitude': random.uniform(-180,180),\n",
    "        'description': \"DIE FROM STRESS\"\n",
    "    }\n",
    "    return js\n",
    "responses = []\n",
    "headers = {'Content-type': 'application/json', 'Accept':'/', 'Connection':'keep-alive'}\n",
    "for i in range(x):\n",
    "    payload = giveData(text.values)\n",
    "    r = requests.post(url, json = payload ,headers = headers)\n",
    "    responses.append([r.status_code, r.reason])\n",
    "    print(r.status_code, r.reason)\n"
   ]
  },
  {
   "cell_type": "code",
   "execution_count": 112,
   "metadata": {},
   "outputs": [],
   "source": []
  },
  {
   "cell_type": "code",
   "execution_count": 113,
   "metadata": {},
   "outputs": [
    {
     "data": {
      "text/plain": [
       "{'name': 'Geisa',\n",
       " 'latitude': 45.65712941696677,\n",
       " 'longitude': 92.4563453818509,\n",
       " 'description': 'DIE FROM STRESS'}"
      ]
     },
     "execution_count": 113,
     "metadata": {},
     "output_type": "execute_result"
    }
   ],
   "source": []
  }
 ],
 "metadata": {
  "kernelspec": {
   "display_name": "Python 3",
   "language": "python",
   "name": "python3"
  },
  "language_info": {
   "codemirror_mode": {
    "name": "ipython",
    "version": 3
   },
   "file_extension": ".py",
   "mimetype": "text/x-python",
   "name": "python",
   "nbconvert_exporter": "python",
   "pygments_lexer": "ipython3",
   "version": "3.8.5"
  }
 },
 "nbformat": 4,
 "nbformat_minor": 4
}
